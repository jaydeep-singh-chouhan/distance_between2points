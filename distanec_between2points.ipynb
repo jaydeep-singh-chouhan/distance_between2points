{
  "nbformat": 4,
  "nbformat_minor": 0,
  "metadata": {
    "colab": {
      "name": "distanec_between2points.ipynb",
      "provenance": [],
      "authorship_tag": "ABX9TyMqFH/h9mBx15wFP1lS/sk4",
      "include_colab_link": true
    },
    "kernelspec": {
      "name": "python3",
      "display_name": "Python 3"
    },
    "language_info": {
      "name": "python"
    }
  },
  "cells": [
    {
      "cell_type": "markdown",
      "metadata": {
        "id": "view-in-github",
        "colab_type": "text"
      },
      "source": [
        "<a href=\"https://colab.research.google.com/github/jaydeep-singh-chouhan/distance_between2points/blob/main/distanec_between2points.ipynb\" target=\"_parent\"><img src=\"https://colab.research.google.com/assets/colab-badge.svg\" alt=\"Open In Colab\"/></a>"
      ]
    },
    {
      "cell_type": "code",
      "metadata": {
        "colab": {
          "base_uri": "https://localhost:8080/"
        },
        "id": "1cW_L_zEDiDB",
        "outputId": "72caed34-3d40-4341-af3d-88463fb28413"
      },
      "source": [
        "import numpy as np\n",
        "a=np.array([66,25])\n",
        "b=np.array([99,69])\n",
        "distance=np.linalg.norm(b-a)\n",
        "distance\n"
      ],
      "execution_count": 1,
      "outputs": [
        {
          "output_type": "execute_result",
          "data": {
            "text/plain": [
              "55.0"
            ]
          },
          "metadata": {},
          "execution_count": 1
        }
      ]
    }
  ]
}